{
  "nbformat": 4,
  "nbformat_minor": 0,
  "metadata": {
    "colab": {
      "provenance": [],
      "gpuType": "T4"
    },
    "kernelspec": {
      "name": "python3",
      "display_name": "Python 3"
    },
    "language_info": {
      "name": "python"
    },
    "accelerator": "GPU"
  },
  "cells": [
    {
      "cell_type": "markdown",
      "source": [
        "## Importing data from kaggle api"
      ],
      "metadata": {
        "id": "srh908I3wNo4"
      }
    },
    {
      "cell_type": "code",
      "execution_count": 1,
      "metadata": {
        "id": "eX6VzatRqGk_"
      },
      "outputs": [],
      "source": [
        "!mkdir -p ~/.kaggle\n",
        "!cp kaggle.json ~/.kaggle/"
      ]
    },
    {
      "cell_type": "code",
      "source": [
        "!kaggle datasets download -d lakshmi25npathi/imdb-dataset-of-50k-movie-reviews"
      ],
      "metadata": {
        "colab": {
          "base_uri": "https://localhost:8080/"
        },
        "id": "8H4lRKUzv5hM",
        "outputId": "077a0aae-e2cb-43f6-bf28-6db09e04b302"
      },
      "execution_count": 2,
      "outputs": [
        {
          "output_type": "stream",
          "name": "stdout",
          "text": [
            "Warning: Your Kaggle API key is readable by other users on this system! To fix this, you can run 'chmod 600 /root/.kaggle/kaggle.json'\n",
            "imdb-dataset-of-50k-movie-reviews.zip: Skipping, found more recently modified local copy (use --force to force download)\n"
          ]
        }
      ]
    },
    {
      "cell_type": "code",
      "source": [
        "import zipfile\n",
        "zip_ref = zipfile.ZipFile('/content/imdb-dataset-of-50k-movie-reviews.zip','r')\n",
        "zip_ref.extractall('/content')\n",
        "zip_ref.close()"
      ],
      "metadata": {
        "id": "xhtj1e2cv9Wl"
      },
      "execution_count": 3,
      "outputs": []
    },
    {
      "cell_type": "code",
      "source": [
        "import pandas as pd\n",
        "import numpy as np\n",
        "import re\n",
        "import nltk\n",
        "nltk.download('stopwords')\n",
        "nltk.download('wordnet')\n",
        "nltk.download('punkt')\n",
        "from nltk.corpus import stopwords\n",
        "from nltk.stem import WordNetLemmatizer"
      ],
      "metadata": {
        "colab": {
          "base_uri": "https://localhost:8080/"
        },
        "id": "9yPOTwU0wFQb",
        "outputId": "111b4efd-47a3-407e-fb08-290d2a1c1fa0"
      },
      "execution_count": 4,
      "outputs": [
        {
          "output_type": "stream",
          "name": "stderr",
          "text": [
            "[nltk_data] Downloading package stopwords to /root/nltk_data...\n",
            "[nltk_data]   Package stopwords is already up-to-date!\n",
            "[nltk_data] Downloading package wordnet to /root/nltk_data...\n",
            "[nltk_data]   Package wordnet is already up-to-date!\n",
            "[nltk_data] Downloading package punkt to /root/nltk_data...\n",
            "[nltk_data]   Package punkt is already up-to-date!\n"
          ]
        }
      ]
    },
    {
      "cell_type": "code",
      "source": [
        "df = pd.read_csv('/content/IMDB Dataset.csv')"
      ],
      "metadata": {
        "id": "ezN4lzO5xeif"
      },
      "execution_count": 5,
      "outputs": []
    },
    {
      "cell_type": "code",
      "source": [
        "df.head()"
      ],
      "metadata": {
        "colab": {
          "base_uri": "https://localhost:8080/",
          "height": 206
        },
        "id": "Ik0y5w6FxoWY",
        "outputId": "74e98d98-894a-4651-be27-e9c223bd7f1e"
      },
      "execution_count": 6,
      "outputs": [
        {
          "output_type": "execute_result",
          "data": {
            "text/plain": [
              "                                              review sentiment\n",
              "0  One of the other reviewers has mentioned that ...  positive\n",
              "1  A wonderful little production. <br /><br />The...  positive\n",
              "2  I thought this was a wonderful way to spend ti...  positive\n",
              "3  Basically there's a family where a little boy ...  negative\n",
              "4  Petter Mattei's \"Love in the Time of Money\" is...  positive"
            ],
            "text/html": [
              "\n",
              "  <div id=\"df-adbc318d-266b-4822-9169-5751d3964d67\">\n",
              "    <div class=\"colab-df-container\">\n",
              "      <div>\n",
              "<style scoped>\n",
              "    .dataframe tbody tr th:only-of-type {\n",
              "        vertical-align: middle;\n",
              "    }\n",
              "\n",
              "    .dataframe tbody tr th {\n",
              "        vertical-align: top;\n",
              "    }\n",
              "\n",
              "    .dataframe thead th {\n",
              "        text-align: right;\n",
              "    }\n",
              "</style>\n",
              "<table border=\"1\" class=\"dataframe\">\n",
              "  <thead>\n",
              "    <tr style=\"text-align: right;\">\n",
              "      <th></th>\n",
              "      <th>review</th>\n",
              "      <th>sentiment</th>\n",
              "    </tr>\n",
              "  </thead>\n",
              "  <tbody>\n",
              "    <tr>\n",
              "      <th>0</th>\n",
              "      <td>One of the other reviewers has mentioned that ...</td>\n",
              "      <td>positive</td>\n",
              "    </tr>\n",
              "    <tr>\n",
              "      <th>1</th>\n",
              "      <td>A wonderful little production. &lt;br /&gt;&lt;br /&gt;The...</td>\n",
              "      <td>positive</td>\n",
              "    </tr>\n",
              "    <tr>\n",
              "      <th>2</th>\n",
              "      <td>I thought this was a wonderful way to spend ti...</td>\n",
              "      <td>positive</td>\n",
              "    </tr>\n",
              "    <tr>\n",
              "      <th>3</th>\n",
              "      <td>Basically there's a family where a little boy ...</td>\n",
              "      <td>negative</td>\n",
              "    </tr>\n",
              "    <tr>\n",
              "      <th>4</th>\n",
              "      <td>Petter Mattei's \"Love in the Time of Money\" is...</td>\n",
              "      <td>positive</td>\n",
              "    </tr>\n",
              "  </tbody>\n",
              "</table>\n",
              "</div>\n",
              "      <button class=\"colab-df-convert\" onclick=\"convertToInteractive('df-adbc318d-266b-4822-9169-5751d3964d67')\"\n",
              "              title=\"Convert this dataframe to an interactive table.\"\n",
              "              style=\"display:none;\">\n",
              "        \n",
              "  <svg xmlns=\"http://www.w3.org/2000/svg\" height=\"24px\"viewBox=\"0 0 24 24\"\n",
              "       width=\"24px\">\n",
              "    <path d=\"M0 0h24v24H0V0z\" fill=\"none\"/>\n",
              "    <path d=\"M18.56 5.44l.94 2.06.94-2.06 2.06-.94-2.06-.94-.94-2.06-.94 2.06-2.06.94zm-11 1L8.5 8.5l.94-2.06 2.06-.94-2.06-.94L8.5 2.5l-.94 2.06-2.06.94zm10 10l.94 2.06.94-2.06 2.06-.94-2.06-.94-.94-2.06-.94 2.06-2.06.94z\"/><path d=\"M17.41 7.96l-1.37-1.37c-.4-.4-.92-.59-1.43-.59-.52 0-1.04.2-1.43.59L10.3 9.45l-7.72 7.72c-.78.78-.78 2.05 0 2.83L4 21.41c.39.39.9.59 1.41.59.51 0 1.02-.2 1.41-.59l7.78-7.78 2.81-2.81c.8-.78.8-2.07 0-2.86zM5.41 20L4 18.59l7.72-7.72 1.47 1.35L5.41 20z\"/>\n",
              "  </svg>\n",
              "      </button>\n",
              "      \n",
              "  <style>\n",
              "    .colab-df-container {\n",
              "      display:flex;\n",
              "      flex-wrap:wrap;\n",
              "      gap: 12px;\n",
              "    }\n",
              "\n",
              "    .colab-df-convert {\n",
              "      background-color: #E8F0FE;\n",
              "      border: none;\n",
              "      border-radius: 50%;\n",
              "      cursor: pointer;\n",
              "      display: none;\n",
              "      fill: #1967D2;\n",
              "      height: 32px;\n",
              "      padding: 0 0 0 0;\n",
              "      width: 32px;\n",
              "    }\n",
              "\n",
              "    .colab-df-convert:hover {\n",
              "      background-color: #E2EBFA;\n",
              "      box-shadow: 0px 1px 2px rgba(60, 64, 67, 0.3), 0px 1px 3px 1px rgba(60, 64, 67, 0.15);\n",
              "      fill: #174EA6;\n",
              "    }\n",
              "\n",
              "    [theme=dark] .colab-df-convert {\n",
              "      background-color: #3B4455;\n",
              "      fill: #D2E3FC;\n",
              "    }\n",
              "\n",
              "    [theme=dark] .colab-df-convert:hover {\n",
              "      background-color: #434B5C;\n",
              "      box-shadow: 0px 1px 3px 1px rgba(0, 0, 0, 0.15);\n",
              "      filter: drop-shadow(0px 1px 2px rgba(0, 0, 0, 0.3));\n",
              "      fill: #FFFFFF;\n",
              "    }\n",
              "  </style>\n",
              "\n",
              "      <script>\n",
              "        const buttonEl =\n",
              "          document.querySelector('#df-adbc318d-266b-4822-9169-5751d3964d67 button.colab-df-convert');\n",
              "        buttonEl.style.display =\n",
              "          google.colab.kernel.accessAllowed ? 'block' : 'none';\n",
              "\n",
              "        async function convertToInteractive(key) {\n",
              "          const element = document.querySelector('#df-adbc318d-266b-4822-9169-5751d3964d67');\n",
              "          const dataTable =\n",
              "            await google.colab.kernel.invokeFunction('convertToInteractive',\n",
              "                                                     [key], {});\n",
              "          if (!dataTable) return;\n",
              "\n",
              "          const docLinkHtml = 'Like what you see? Visit the ' +\n",
              "            '<a target=\"_blank\" href=https://colab.research.google.com/notebooks/data_table.ipynb>data table notebook</a>'\n",
              "            + ' to learn more about interactive tables.';\n",
              "          element.innerHTML = '';\n",
              "          dataTable['output_type'] = 'display_data';\n",
              "          await google.colab.output.renderOutput(dataTable, element);\n",
              "          const docLink = document.createElement('div');\n",
              "          docLink.innerHTML = docLinkHtml;\n",
              "          element.appendChild(docLink);\n",
              "        }\n",
              "      </script>\n",
              "    </div>\n",
              "  </div>\n",
              "  "
            ]
          },
          "metadata": {},
          "execution_count": 6
        }
      ]
    },
    {
      "cell_type": "code",
      "source": [
        "df.shape"
      ],
      "metadata": {
        "colab": {
          "base_uri": "https://localhost:8080/"
        },
        "id": "iItMiTkYxqWf",
        "outputId": "799c2680-cba0-48d4-b50f-eda466a30d54"
      },
      "execution_count": 7,
      "outputs": [
        {
          "output_type": "execute_result",
          "data": {
            "text/plain": [
              "(50000, 2)"
            ]
          },
          "metadata": {},
          "execution_count": 7
        }
      ]
    },
    {
      "cell_type": "code",
      "source": [
        "df.isna().sum()"
      ],
      "metadata": {
        "colab": {
          "base_uri": "https://localhost:8080/"
        },
        "id": "L8HlNQDExvtT",
        "outputId": "eaef4c67-c792-43ff-d042-baba9156714b"
      },
      "execution_count": 8,
      "outputs": [
        {
          "output_type": "execute_result",
          "data": {
            "text/plain": [
              "review       0\n",
              "sentiment    0\n",
              "dtype: int64"
            ]
          },
          "metadata": {},
          "execution_count": 8
        }
      ]
    },
    {
      "cell_type": "code",
      "source": [
        "df.duplicated().sum()"
      ],
      "metadata": {
        "colab": {
          "base_uri": "https://localhost:8080/"
        },
        "id": "p3hDNIFuxz1_",
        "outputId": "8cb190b8-0bc4-4c81-903e-9642dc078774"
      },
      "execution_count": 9,
      "outputs": [
        {
          "output_type": "execute_result",
          "data": {
            "text/plain": [
              "418"
            ]
          },
          "metadata": {},
          "execution_count": 9
        }
      ]
    },
    {
      "cell_type": "code",
      "source": [
        "df['sentiment'].value_counts()"
      ],
      "metadata": {
        "colab": {
          "base_uri": "https://localhost:8080/"
        },
        "id": "-W7FwS13x3qp",
        "outputId": "0f886ae6-11d8-437c-ce73-124488115937"
      },
      "execution_count": 10,
      "outputs": [
        {
          "output_type": "execute_result",
          "data": {
            "text/plain": [
              "positive    25000\n",
              "negative    25000\n",
              "Name: sentiment, dtype: int64"
            ]
          },
          "metadata": {},
          "execution_count": 10
        }
      ]
    },
    {
      "cell_type": "markdown",
      "source": [
        "## Text Preprocessing"
      ],
      "metadata": {
        "id": "3pKX6ddBx-i5"
      }
    },
    {
      "cell_type": "code",
      "source": [
        "lemmatizer = WordNetLemmatizer()\n",
        "corpus =[]\n",
        "for i in df['review']:\n",
        "  data = re.sub('[^a-zA-Z0-9\\s]','',i)\n",
        "  data = data.lower()\n",
        "  data = data.split()\n",
        "  data = [lemmatizer.lemmatize(words) for words in data if data not in (stopwords.words('english'))]\n",
        "  data = ' '.join(data)\n",
        "  corpus.append(data)"
      ],
      "metadata": {
        "id": "z7sTqGBox73x"
      },
      "execution_count": null,
      "outputs": []
    },
    {
      "cell_type": "code",
      "source": [
        "corpus[0]"
      ],
      "metadata": {
        "colab": {
          "base_uri": "https://localhost:8080/",
          "height": 217
        },
        "id": "Ifvf836b5AAY",
        "outputId": "c6b86770-d238-4856-8ad8-3952a6c75436"
      },
      "execution_count": null,
      "outputs": [
        {
          "output_type": "execute_result",
          "data": {
            "text/plain": [
              "'one of the other reviewer ha mentioned that after watching just 1 oz episode youll be hooked they are right a this is exactly what happened with mebr br the first thing that struck me about oz wa it brutality and unflinching scene of violence which set in right from the word go trust me this is not a show for the faint hearted or timid this show pull no punch with regard to drug sex or violence it is hardcore in the classic use of the wordbr br it is called oz a that is the nickname given to the oswald maximum security state penitentary it focus mainly on emerald city an experimental section of the prison where all the cell have glass front and face inwards so privacy is not high on the agenda em city is home to manyaryans muslim gangsta latino christian italian irish and moreso scuffle death stare dodgy dealing and shady agreement are never far awaybr br i would say the main appeal of the show is due to the fact that it go where other show wouldnt dare forget pretty picture painted for mainstream audience forget charm forget romanceoz doesnt mess around the first episode i ever saw struck me a so nasty it wa surreal i couldnt say i wa ready for it but a i watched more i developed a taste for oz and got accustomed to the high level of graphic violence not just violence but injustice crooked guard wholl be sold out for a nickel inmate wholl kill on order and get away with it well mannered middle class inmate being turned into prison bitch due to their lack of street skill or prison experience watching oz you may become comfortable with what is uncomfortable viewingthats if you can get in touch with your darker side'"
            ],
            "application/vnd.google.colaboratory.intrinsic+json": {
              "type": "string"
            }
          },
          "metadata": {},
          "execution_count": 12
        }
      ]
    },
    {
      "cell_type": "markdown",
      "source": [],
      "metadata": {
        "id": "Gn_RVXEj1Z5l"
      }
    },
    {
      "cell_type": "code",
      "source": [
        "from sklearn.preprocessing import LabelEncoder\n",
        "le = LabelEncoder()\n",
        "y = le.fit_transform(df['sentiment'])"
      ],
      "metadata": {
        "id": "jps44ZiX1OsF"
      },
      "execution_count": null,
      "outputs": []
    },
    {
      "cell_type": "markdown",
      "source": [
        "## Bag Of Words Vectorization"
      ],
      "metadata": {
        "id": "mr6Emmhe0rlC"
      }
    },
    {
      "cell_type": "code",
      "source": [
        "from sklearn.feature_extraction.text import CountVectorizer\n",
        "cv = CountVectorizer(max_features =100 , binary =True)\n",
        "bow_x = cv.fit_transform(corpus).toarray()"
      ],
      "metadata": {
        "id": "GMMIeSRpyPt9"
      },
      "execution_count": null,
      "outputs": []
    },
    {
      "cell_type": "code",
      "source": [
        "bow_x"
      ],
      "metadata": {
        "colab": {
          "base_uri": "https://localhost:8080/"
        },
        "id": "cuHmNUBY5cwP",
        "outputId": "f70071e6-6d17-41a4-bb7a-2f30a5fc16c2"
      },
      "execution_count": null,
      "outputs": [
        {
          "output_type": "execute_result",
          "data": {
            "text/plain": [
              "array([[1, 1, 1, ..., 1, 1, 1],\n",
              "       [1, 0, 1, ..., 1, 0, 1],\n",
              "       [0, 0, 0, ..., 1, 0, 0],\n",
              "       ...,\n",
              "       [0, 0, 1, ..., 1, 1, 0],\n",
              "       [1, 0, 1, ..., 1, 1, 1],\n",
              "       [1, 0, 1, ..., 1, 1, 0]])"
            ]
          },
          "metadata": {},
          "execution_count": 15
        }
      ]
    },
    {
      "cell_type": "markdown",
      "source": [
        "TF-IDF Vectorizer"
      ],
      "metadata": {
        "id": "rSooB7eq2H-i"
      }
    },
    {
      "cell_type": "code",
      "source": [
        "from sklearn.feature_extraction.text import TfidfVectorizer\n",
        "tfidf = TfidfVectorizer(max_features =100)\n",
        "tfidf_x = tfidf.fit_transform(corpus).toarray()"
      ],
      "metadata": {
        "id": "mN3YH4d82OI_"
      },
      "execution_count": null,
      "outputs": []
    },
    {
      "cell_type": "code",
      "source": [
        "tfidf_x"
      ],
      "metadata": {
        "colab": {
          "base_uri": "https://localhost:8080/"
        },
        "id": "DoxW_cJM5-fW",
        "outputId": "f262f2ce-7a90-4a7f-a2a5-8916a340be9b"
      },
      "execution_count": null,
      "outputs": [
        {
          "output_type": "execute_result",
          "data": {
            "text/plain": [
              "array([[0.05397688, 0.07141969, 0.04814322, ..., 0.19564057, 0.06149708,\n",
              "        0.09524377],\n",
              "       [0.07161777, 0.        , 0.12775509, ..., 0.15574827, 0.        ,\n",
              "        0.06318582],\n",
              "       [0.        , 0.        , 0.        , ..., 0.13609133, 0.        ,\n",
              "        0.        ],\n",
              "       ...,\n",
              "       [0.        , 0.        , 0.05138611, ..., 0.04176375, 0.06563947,\n",
              "        0.        ],\n",
              "       [0.14384222, 0.        , 0.0641481 , ..., 0.15640794, 0.08194135,\n",
              "        0.06345344],\n",
              "       [0.07834559, 0.        , 0.06987824, ..., 0.05679312, 0.08926091,\n",
              "        0.        ]])"
            ]
          },
          "metadata": {},
          "execution_count": 17
        }
      ]
    },
    {
      "cell_type": "markdown",
      "source": [
        "## Word2Vec Vectorizer"
      ],
      "metadata": {
        "id": "B1oWa77v3DGM"
      }
    },
    {
      "cell_type": "code",
      "source": [
        "import gensim\n",
        "from gensim.utils import simple_preprocess\n",
        "words =[]\n",
        "for i in corpus:\n",
        "  sent = nltk.sent_tokenize(i)\n",
        "  for j in sent:\n",
        "    words.append(simple_preprocess(j))"
      ],
      "metadata": {
        "id": "Y5ksKVMl3HRx"
      },
      "execution_count": null,
      "outputs": []
    },
    {
      "cell_type": "code",
      "source": [
        "w2v_model = gensim.models.Word2Vec(window =5 ,min_count=2)"
      ],
      "metadata": {
        "id": "sN_hPoA34nxo"
      },
      "execution_count": null,
      "outputs": []
    },
    {
      "cell_type": "code",
      "source": [
        "w2v_model.build_vocab(words)   ## Here we are building vocab from all words of our corpus"
      ],
      "metadata": {
        "id": "MSBzVPY54net"
      },
      "execution_count": null,
      "outputs": []
    },
    {
      "cell_type": "code",
      "source": [
        "len(w2v_model.wv.index_to_key)  ## This is code to see vocab in our corpus "
      ],
      "metadata": {
        "colab": {
          "base_uri": "https://localhost:8080/"
        },
        "id": "8TvtI54L6tpu",
        "outputId": "2a31e3e3-6618-4c53-e272-c7843b68da54"
      },
      "execution_count": null,
      "outputs": [
        {
          "output_type": "execute_result",
          "data": {
            "text/plain": [
              "71506"
            ]
          },
          "metadata": {},
          "execution_count": 21
        }
      ]
    },
    {
      "cell_type": "code",
      "source": [
        "w2v_model.corpus_count     ### Number of review in our data"
      ],
      "metadata": {
        "colab": {
          "base_uri": "https://localhost:8080/"
        },
        "id": "5fSLHwO08pXf",
        "outputId": "d13d2777-279b-4449-ff16-9bc9c08c588f"
      },
      "execution_count": null,
      "outputs": [
        {
          "output_type": "execute_result",
          "data": {
            "text/plain": [
              "50000"
            ]
          },
          "metadata": {},
          "execution_count": 22
        }
      ]
    },
    {
      "cell_type": "code",
      "source": [
        "w2v_model.epochs"
      ],
      "metadata": {
        "colab": {
          "base_uri": "https://localhost:8080/"
        },
        "id": "y6qik1Jk9P-G",
        "outputId": "f17623a6-fcb3-4a82-e671-c6b689472eec"
      },
      "execution_count": null,
      "outputs": [
        {
          "output_type": "execute_result",
          "data": {
            "text/plain": [
              "5"
            ]
          },
          "metadata": {},
          "execution_count": 23
        }
      ]
    },
    {
      "cell_type": "code",
      "source": [
        "w2v_model.train(words , total_examples = w2v_model.corpus_count , epochs = w2v_model.epochs)  ### it gives vector of each word in review of 100 dim"
      ],
      "metadata": {
        "colab": {
          "base_uri": "https://localhost:8080/"
        },
        "id": "UbDUsul570Bm",
        "outputId": "b9a1cbf4-205b-49e1-8e51-094a0cdeb6d7"
      },
      "execution_count": null,
      "outputs": [
        {
          "output_type": "execute_result",
          "data": {
            "text/plain": [
              "(41150208, 54294800)"
            ]
          },
          "metadata": {},
          "execution_count": 24
        }
      ]
    },
    {
      "cell_type": "code",
      "source": [
        "w2v_model.wv['other']   ## Vector of 100 dim of word 'other'"
      ],
      "metadata": {
        "colab": {
          "base_uri": "https://localhost:8080/"
        },
        "id": "xCohsubb-aST",
        "outputId": "5ca8c204-74bd-4b16-9d6c-86a5602f49b9"
      },
      "execution_count": null,
      "outputs": [
        {
          "output_type": "execute_result",
          "data": {
            "text/plain": [
              "array([-4.0355504e-01,  2.4510441e+00,  2.9365318e+00,  1.0776652e+00,\n",
              "       -1.1645190e+00, -4.3283084e-01, -1.2502393e+00, -5.9843415e-01,\n",
              "       -1.0824804e+00,  3.2787485e+00,  7.7678211e-02, -9.8848593e-01,\n",
              "       -2.5411408e+00,  1.4787580e+00,  2.0636222e+00, -1.7818233e+00,\n",
              "       -1.3950388e-01,  1.4231637e+00,  2.5152776e+00,  3.4201585e-02,\n",
              "        2.3765235e+00, -5.8547634e-01,  5.7326376e-01,  1.3387384e+00,\n",
              "        8.2657123e-01, -1.9806367e+00,  6.2419969e-01, -7.6227501e-02,\n",
              "       -2.6120756e+00, -3.6505040e-02, -1.6088872e+00,  9.1866404e-01,\n",
              "       -3.2975323e+00, -7.3956341e-01, -2.0650070e+00,  5.5257940e-01,\n",
              "        9.1291332e-01,  3.7623718e-01,  1.1230074e+00,  4.5789677e-01,\n",
              "        3.4273180e-01,  1.7347891e+00, -1.1574714e+00, -1.4668182e-01,\n",
              "       -2.2518847e+00, -1.5986917e+00, -3.2391086e+00, -1.0136397e+00,\n",
              "       -1.0036594e+00, -2.1952813e+00, -4.0731859e+00,  8.4589952e-01,\n",
              "       -2.9147651e+00, -1.7700726e-01,  1.3197781e+00, -6.6831470e-01,\n",
              "        1.7056859e-01,  1.1296886e+00,  1.7339232e+00, -1.0770571e+00,\n",
              "        2.9458144e+00,  9.3684159e-02, -1.7016768e+00,  7.2193277e-01,\n",
              "       -1.1346985e+00, -4.0705869e-01, -1.4739246e+00, -7.7117646e-01,\n",
              "        3.9738801e+00,  1.2793617e+00, -3.4152515e+00,  2.2237398e-01,\n",
              "       -3.4722965e+00, -6.4583725e-01, -1.1921538e+00, -1.3702474e+00,\n",
              "        4.7390109e-01, -2.0561011e+00, -7.4703032e-01,  3.5480919e-01,\n",
              "       -3.9376375e-01, -1.7875487e+00, -2.3443320e+00, -4.8964733e-04,\n",
              "       -1.3722444e+00, -1.4495236e+00, -1.1933825e+00,  1.4880753e+00,\n",
              "        2.0801861e+00, -1.0925597e+00, -2.2618933e+00, -1.1193613e+00,\n",
              "       -4.1725141e-01,  1.8824780e+00,  1.9363236e+00, -5.1990700e-01,\n",
              "        4.5772845e-01,  1.3310692e+00,  1.9983736e+00,  1.2452865e+00],\n",
              "      dtype=float32)"
            ]
          },
          "metadata": {},
          "execution_count": 25
        }
      ]
    },
    {
      "cell_type": "code",
      "source": [
        "value =[]                                 ## Calculating Vector of entire review using average word2vec\n",
        "vector = []\n",
        "for i in corpus:\n",
        "  for j in i.split():\n",
        "    if j in w2v_model.wv.index_to_key:\n",
        "      value.append(w2v_model.wv[j])\n",
        "\n",
        "  vector.append((np.mean(value,axis=0)))\n"
      ],
      "metadata": {
        "id": "kQ-FBuyV-swT"
      },
      "execution_count": null,
      "outputs": []
    },
    {
      "cell_type": "code",
      "source": [
        "vector"
      ],
      "metadata": {
        "id": "4hKZitZM_QSl"
      },
      "execution_count": null,
      "outputs": []
    },
    {
      "cell_type": "code",
      "source": [],
      "metadata": {
        "id": "aFW4wtRj_Tze"
      },
      "execution_count": null,
      "outputs": []
    }
  ]
}